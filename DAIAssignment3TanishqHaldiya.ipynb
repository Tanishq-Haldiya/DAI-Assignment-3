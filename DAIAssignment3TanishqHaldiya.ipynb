{
  "nbformat": 4,
  "nbformat_minor": 0,
  "metadata": {
    "colab": {
      "provenance": []
    },
    "kernelspec": {
      "name": "python3",
      "display_name": "Python 3"
    },
    "language_info": {
      "name": "python"
    }
  },
  "cells": [
    {
      "cell_type": "markdown",
      "source": [
        "# Assignment 3\n",
        "Objective - To balance an imbalanced dataset and evaluate the performance of various techniques."
      ],
      "metadata": {
        "id": "_3-ZrRQjAoEk"
      }
    },
    {
      "cell_type": "code",
      "execution_count": null,
      "metadata": {
        "id": "5Skps_aN85Hb"
      },
      "outputs": [],
      "source": [
        "# Importing necessary libraries\n",
        "import pandas as pd\n",
        "import numpy as np\n",
        "from sklearn.model_selection import train_test_split\n",
        "from sklearn.ensemble import RandomForestClassifier\n",
        "from sklearn.metrics import classification_report, roc_auc_score\n",
        "from imblearn.over_sampling import SMOTE, RandomOverSampler\n",
        "from imblearn.under_sampling import RandomUnderSampler, TomekLinks\n",
        "from imblearn.combine import SMOTEENN\n",
        "from sklearn.utils.class_weight import compute_class_weight\n",
        "from sklearn import datasets\n",
        "from collections import Counter"
      ]
    },
    {
      "cell_type": "code",
      "source": [
        "X,y = datasets.make_classification(n_samples=10000, n_features=20, n_informative=15, n_redundant=5, random_state=42,weights=[0.8,0.2])"
      ],
      "metadata": {
        "id": "4PWPac_f9D_H"
      },
      "execution_count": null,
      "outputs": []
    },
    {
      "cell_type": "code",
      "source": [
        "X_train, X_test, y_train, y_test = train_test_split(X, y, test_size=0.2, random_state=42)"
      ],
      "metadata": {
        "id": "GPW63CSo947R"
      },
      "execution_count": null,
      "outputs": []
    },
    {
      "cell_type": "code",
      "source": [
        "# Random Under Sampling\n",
        "print(\"Original class distribution:\", Counter(y_train))\n",
        "rus = RandomUnderSampler(random_state=42)\n",
        "X_rus, y_rus = rus.fit_resample(X_train, y_train)\n",
        "print(\"Original class distribution:\", Counter(y_rus))"
      ],
      "metadata": {
        "colab": {
          "base_uri": "https://localhost:8080/"
        },
        "id": "5XUQH_XF-F8F",
        "outputId": "6e7a07d0-5311-4c06-d045-1456c1faa995"
      },
      "execution_count": null,
      "outputs": [
        {
          "output_type": "stream",
          "name": "stdout",
          "text": [
            "Original class distribution: Counter({0: 6409, 1: 1591})\n",
            "Original class distribution: Counter({0: 1591, 1: 1591})\n"
          ]
        }
      ]
    },
    {
      "cell_type": "code",
      "source": [
        "# Random Over Sampling\n",
        "print(\"Original class distribution:\", Counter(y_train))\n",
        "ros = RandomOverSampler(random_state=42)\n",
        "X_ros, y_ros = ros.fit_resample(X_train, y_train)\n",
        "print(\"Original class distribution:\", Counter(y_ros))"
      ],
      "metadata": {
        "colab": {
          "base_uri": "https://localhost:8080/"
        },
        "id": "lJ6o83Wf-4ik",
        "outputId": "55eed381-5bf4-42d7-cf6e-4ffbff110c1a"
      },
      "execution_count": null,
      "outputs": [
        {
          "output_type": "stream",
          "name": "stdout",
          "text": [
            "Original class distribution: Counter({0: 6409, 1: 1591})\n",
            "Original class distribution: Counter({0: 6409, 1: 6409})\n"
          ]
        }
      ]
    },
    {
      "cell_type": "code",
      "source": [
        "# SMOTE(Synthetic Minority Oversampling Techniqu)\n",
        "print(\"Original class distribution:\", Counter(y_train))\n",
        "smote = SMOTE(random_state=42)\n",
        "X_smote, y_smote = smote.fit_resample(X_train, y_train)\n",
        "print(\"Original class distribution:\", Counter(y_smote))"
      ],
      "metadata": {
        "colab": {
          "base_uri": "https://localhost:8080/"
        },
        "id": "qERHsut2_Off",
        "outputId": "374a38fa-e946-420f-ea17-754c7b786fdb"
      },
      "execution_count": null,
      "outputs": [
        {
          "output_type": "stream",
          "name": "stdout",
          "text": [
            "Original class distribution: Counter({0: 6409, 1: 1591})\n",
            "Original class distribution: Counter({0: 6409, 1: 6409})\n"
          ]
        }
      ]
    },
    {
      "cell_type": "code",
      "source": [
        "# Tomek Links\n",
        "print(\"Original class distribution:\", Counter(y_train))\n",
        "tl = TomekLinks()\n",
        "X_tl, y_tl = tl.fit_resample(X_train, y_train)\n",
        "print(\"Original class distribution:\", Counter(y_tl))"
      ],
      "metadata": {
        "colab": {
          "base_uri": "https://localhost:8080/"
        },
        "id": "sObvKxb__R2q",
        "outputId": "83e48cd2-e789-43fb-903a-d9075f790b56"
      },
      "execution_count": null,
      "outputs": [
        {
          "output_type": "stream",
          "name": "stdout",
          "text": [
            "Original class distribution: Counter({0: 6409, 1: 1591})\n",
            "Original class distribution: Counter({0: 6366, 1: 1591})\n"
          ]
        }
      ]
    },
    {
      "cell_type": "code",
      "source": [
        "# Class Weights\n",
        "class_weights = compute_class_weight(class_weight='balanced', classes=np.unique(y_train), y=y_train)\n",
        "class_weights_dict = dict(enumerate(class_weights))\n",
        "class_weights"
      ],
      "metadata": {
        "colab": {
          "base_uri": "https://localhost:8080/"
        },
        "id": "BK8kh82f_aq4",
        "outputId": "237d22a9-ee34-46bc-f4c0-08978d9aafed"
      },
      "execution_count": null,
      "outputs": [
        {
          "output_type": "execute_result",
          "data": {
            "text/plain": [
              "array([0.62412233, 2.51414205])"
            ]
          },
          "metadata": {},
          "execution_count": 23
        }
      ]
    },
    {
      "cell_type": "code",
      "source": [
        "# Function to evaluate model performance\n",
        "def evaluate_model(X_train, y_train, X_test, y_test, class_weights=None):\n",
        "    model = RandomForestClassifier(class_weight=class_weights, random_state=42)\n",
        "    model.fit(X_train, y_train)\n",
        "    y_pred = model.predict(X_test)\n",
        "    y_prob = model.predict_proba(X_test)[:, 1]\n",
        "\n",
        "    print(classification_report(y_test, y_pred))\n",
        "    print(\"AUC:\", roc_auc_score(y_test, y_prob))"
      ],
      "metadata": {
        "id": "6QhRI3I2_sBV"
      },
      "execution_count": null,
      "outputs": []
    },
    {
      "cell_type": "code",
      "source": [
        "# Evaluate each sampling technique\n",
        "print(\"Original:\")\n",
        "evaluate_model(X_train, y_train, X_test, y_test)\n",
        "print(\"\\nRandom Undersampling:\")\n",
        "evaluate_model(X_rus, y_rus, X_test, y_test)\n",
        "\n",
        "print(\"\\nRandom Oversampling:\")\n",
        "evaluate_model(X_ros, y_ros, X_test, y_test)\n",
        "\n",
        "print(\"\\nSMOTE:\")\n",
        "evaluate_model(X_smote, y_smote, X_test, y_test)\n",
        "\n",
        "print(\"\\nTomek Links:\")\n",
        "evaluate_model(X_tl, y_tl, X_test, y_test)\n",
        "\n",
        "print(\"\\nClass Weights:\")\n",
        "evaluate_model(X_train, y_train, X_test, y_test, class_weights_dict)"
      ],
      "metadata": {
        "colab": {
          "base_uri": "https://localhost:8080/"
        },
        "id": "0-KEKGnQ_vXe",
        "outputId": "d78b1670-1a50-477c-844f-95ef4ac5f8c2"
      },
      "execution_count": null,
      "outputs": [
        {
          "output_type": "stream",
          "name": "stdout",
          "text": [
            "Original:\n",
            "              precision    recall  f1-score   support\n",
            "\n",
            "           0       0.94      1.00      0.97      1571\n",
            "           1       0.98      0.75      0.85       429\n",
            "\n",
            "    accuracy                           0.94      2000\n",
            "   macro avg       0.96      0.87      0.91      2000\n",
            "weighted avg       0.95      0.94      0.94      2000\n",
            "\n",
            "AUC: 0.9725702898841028\n",
            "\n",
            "Random Undersampling:\n",
            "              precision    recall  f1-score   support\n",
            "\n",
            "           0       0.97      0.95      0.96      1571\n",
            "           1       0.83      0.88      0.86       429\n",
            "\n",
            "    accuracy                           0.94      2000\n",
            "   macro avg       0.90      0.92      0.91      2000\n",
            "weighted avg       0.94      0.94      0.94      2000\n",
            "\n",
            "AUC: 0.9724834893517262\n",
            "\n",
            "Random Oversampling:\n",
            "              precision    recall  f1-score   support\n",
            "\n",
            "           0       0.95      0.99      0.97      1571\n",
            "           1       0.94      0.79      0.86       429\n",
            "\n",
            "    accuracy                           0.94      2000\n",
            "   macro avg       0.94      0.89      0.91      2000\n",
            "weighted avg       0.94      0.94      0.94      2000\n",
            "\n",
            "AUC: 0.9760207965172957\n",
            "\n",
            "SMOTE:\n",
            "              precision    recall  f1-score   support\n",
            "\n",
            "           0       0.96      0.98      0.97      1571\n",
            "           1       0.91      0.86      0.88       429\n",
            "\n",
            "    accuracy                           0.95      2000\n",
            "   macro avg       0.94      0.92      0.93      2000\n",
            "weighted avg       0.95      0.95      0.95      2000\n",
            "\n",
            "AUC: 0.9780876878267076\n",
            "\n",
            "Tomek Links:\n",
            "              precision    recall  f1-score   support\n",
            "\n",
            "           0       0.93      0.99      0.96      1571\n",
            "           1       0.97      0.73      0.83       429\n",
            "\n",
            "    accuracy                           0.94      2000\n",
            "   macro avg       0.95      0.86      0.90      2000\n",
            "weighted avg       0.94      0.94      0.93      2000\n",
            "\n",
            "AUC: 0.9721637369632279\n",
            "\n",
            "Class Weights:\n",
            "              precision    recall  f1-score   support\n",
            "\n",
            "           0       0.92      0.99      0.96      1571\n",
            "           1       0.97      0.69      0.81       429\n",
            "\n",
            "    accuracy                           0.93      2000\n",
            "   macro avg       0.95      0.84      0.88      2000\n",
            "weighted avg       0.93      0.93      0.92      2000\n",
            "\n",
            "AUC: 0.9761654640712566\n"
          ]
        }
      ]
    },
    {
      "cell_type": "code",
      "source": [],
      "metadata": {
        "id": "hQaTZiBN_y5v"
      },
      "execution_count": null,
      "outputs": []
    }
  ]
}